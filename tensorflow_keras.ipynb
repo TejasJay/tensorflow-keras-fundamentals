{
 "cells": [
  {
   "cell_type": "markdown",
   "metadata": {
    "id": "9aOXyOV2NPIa"
   },
   "source": [
    "## Creating a dataset"
   ]
  },
  {
   "cell_type": "code",
   "execution_count": 46,
   "metadata": {
    "id": "jvjkp4UvzQYa"
   },
   "outputs": [],
   "source": [
    "# importing libraries\n",
    "\n",
    "import numpy as np\n",
    "from random import randint\n",
    "from sklearn.utils import shuffle\n",
    "from sklearn.preprocessing import MinMaxScaler\n",
    "import pandas as pd"
   ]
  },
  {
   "cell_type": "code",
   "execution_count": 47,
   "metadata": {
    "id": "7L-ULRRe_cFx"
   },
   "outputs": [],
   "source": [
    "# empty list\n",
    "\n",
    "train_labels = []\n",
    "train_samples = []"
   ]
  },
  {
   "cell_type": "markdown",
   "metadata": {
    "id": "WN-913ADAuBb"
   },
   "source": [
    "Example data:\n",
    "- An experimental data was tested on individuals from 13 to 100in a clinical trial\n",
    "- The trial has 2100 participants. Half were under 65 years and the other half were above 65\n",
    "- Around 95% of patients 65 or older experienced side effects\n",
    "- Around 95% of patients under 65 experienced no side effects"
   ]
  },
  {
   "cell_type": "code",
   "execution_count": 48,
   "metadata": {
    "id": "TLHVs5AeAwgy"
   },
   "outputs": [],
   "source": [
    "# generating the experimental dataset\n",
    "\n",
    "for i in range(50):\n",
    "  # 5% of younger patients who experienced side effects\n",
    "  random_younger = randint(13,64)\n",
    "  train_samples.append(random_younger)\n",
    "  train_labels.append(1)\n",
    "\n",
    "  # 5% of older patients who did not experience side effects\n",
    "  random_older = randint(65,100)\n",
    "  train_samples.append(random_older)\n",
    "  train_labels.append(0)\n",
    "\n",
    "for i in range(1000):\n",
    "  # 95% of younger patients who experienced no side effects\n",
    "  random_younger = randint(13,64)\n",
    "  train_samples.append(random_younger)\n",
    "  train_labels.append(0)\n",
    "\n",
    "  # 95% of older patients who experienced side effects\n",
    "  random_older = randint(65,100)\n",
    "  train_samples.append(random_older)\n",
    "  train_labels.append(1)\n"
   ]
  },
  {
   "cell_type": "code",
   "execution_count": 49,
   "metadata": {
    "id": "bm10Rb9YCr6b"
   },
   "outputs": [],
   "source": [
    "df = pd.DataFrame(data=[train_samples,train_labels]).T"
   ]
  },
  {
   "cell_type": "code",
   "execution_count": 50,
   "metadata": {
    "colab": {
     "base_uri": "https://localhost:8080/",
     "height": 206
    },
    "id": "uXsWKf_YDEAt",
    "outputId": "fa027e96-6804-48a2-d188-c7004a3cc8c2"
   },
   "outputs": [
    {
     "data": {
      "text/html": [
       "<div>\n",
       "<style scoped>\n",
       "    .dataframe tbody tr th:only-of-type {\n",
       "        vertical-align: middle;\n",
       "    }\n",
       "\n",
       "    .dataframe tbody tr th {\n",
       "        vertical-align: top;\n",
       "    }\n",
       "\n",
       "    .dataframe thead th {\n",
       "        text-align: right;\n",
       "    }\n",
       "</style>\n",
       "<table border=\"1\" class=\"dataframe\">\n",
       "  <thead>\n",
       "    <tr style=\"text-align: right;\">\n",
       "      <th></th>\n",
       "      <th>Age</th>\n",
       "      <th>experienced side effect</th>\n",
       "    </tr>\n",
       "  </thead>\n",
       "  <tbody>\n",
       "    <tr>\n",
       "      <th>0</th>\n",
       "      <td>47</td>\n",
       "      <td>1</td>\n",
       "    </tr>\n",
       "    <tr>\n",
       "      <th>1</th>\n",
       "      <td>87</td>\n",
       "      <td>0</td>\n",
       "    </tr>\n",
       "    <tr>\n",
       "      <th>2</th>\n",
       "      <td>16</td>\n",
       "      <td>1</td>\n",
       "    </tr>\n",
       "    <tr>\n",
       "      <th>3</th>\n",
       "      <td>65</td>\n",
       "      <td>0</td>\n",
       "    </tr>\n",
       "    <tr>\n",
       "      <th>4</th>\n",
       "      <td>26</td>\n",
       "      <td>1</td>\n",
       "    </tr>\n",
       "  </tbody>\n",
       "</table>\n",
       "</div>"
      ],
      "text/plain": [
       "   Age  experienced side effect\n",
       "0   47                        1\n",
       "1   87                        0\n",
       "2   16                        1\n",
       "3   65                        0\n",
       "4   26                        1"
      ]
     },
     "execution_count": 50,
     "metadata": {},
     "output_type": "execute_result"
    }
   ],
   "source": [
    "# showing in dataframe\n",
    "df.columns = ['Age', 'experienced side effect']\n",
    "df.head()"
   ]
  },
  {
   "cell_type": "code",
   "execution_count": 51,
   "metadata": {
    "id": "n15WNWKVDEui"
   },
   "outputs": [],
   "source": [
    "# transforming into numpy array\n",
    "train_labels = np.array(train_labels)\n",
    "train_samples = np.array(train_samples)\n",
    "\n",
    "# shuffling the data\n",
    "train_labels, train_samples = shuffle(train_labels, train_samples)"
   ]
  },
  {
   "cell_type": "code",
   "execution_count": 52,
   "metadata": {
    "id": "f9e9OBsaD3K6"
   },
   "outputs": [],
   "source": [
    "# scalaing the data in the range 0 to 1\n",
    "\n",
    "scalar = MinMaxScaler(feature_range=(0,1))"
   ]
  },
  {
   "cell_type": "code",
   "execution_count": 53,
   "metadata": {
    "colab": {
     "base_uri": "https://localhost:8080/"
    },
    "id": "VUWvgnMsElse",
    "outputId": "16a1bb21-b1c1-4330-bb12-f4a87b06d8e5"
   },
   "outputs": [
    {
     "data": {
      "text/plain": [
       "(2100,)"
      ]
     },
     "execution_count": 53,
     "metadata": {},
     "output_type": "execute_result"
    }
   ],
   "source": [
    "# This data is in 1D and if we need to pass it through a network it should alteast be 2D, hence reshaping\n",
    "train_samples.shape"
   ]
  },
  {
   "cell_type": "code",
   "execution_count": 54,
   "metadata": {
    "colab": {
     "base_uri": "https://localhost:8080/"
    },
    "id": "Q-tyRBDMEJpu",
    "outputId": "fe123834-4878-46fe-a7ff-291729ed57e5"
   },
   "outputs": [
    {
     "data": {
      "text/plain": [
       "array([[80],\n",
       "       [97],\n",
       "       [72],\n",
       "       ...,\n",
       "       [71],\n",
       "       [27],\n",
       "       [72]])"
      ]
     },
     "execution_count": 54,
     "metadata": {},
     "output_type": "execute_result"
    }
   ],
   "source": [
    "# we need to reshape -1 represent the same shape and 1 represent we are adding 1 new dimension\n",
    "train_samples.reshape(-1,1)"
   ]
  },
  {
   "cell_type": "code",
   "execution_count": 55,
   "metadata": {
    "id": "Ka7cFfFpENZR"
   },
   "outputs": [],
   "source": [
    "# scaling, reshaping and fitting the data\n",
    "# also we need to reshape the data to pass it through the fit transform function\n",
    "\n",
    "scaled_train_examples = scalar.fit_transform(train_samples.reshape(-1,1))"
   ]
  },
  {
   "cell_type": "code",
   "execution_count": 56,
   "metadata": {
    "colab": {
     "base_uri": "https://localhost:8080/"
    },
    "id": "dZFEwwayE3i6",
    "outputId": "315cf844-8d18-4208-a8dd-ccad1cd745b6"
   },
   "outputs": [
    {
     "data": {
      "text/plain": [
       "(2100, 1)"
      ]
     },
     "execution_count": 56,
     "metadata": {},
     "output_type": "execute_result"
    }
   ],
   "source": [
    "# Now the shape is in 2D\n",
    "scaled_train_examples.shape"
   ]
  },
  {
   "cell_type": "code",
   "execution_count": 57,
   "metadata": {
    "colab": {
     "base_uri": "https://localhost:8080/"
    },
    "id": "BR_0A1zjFRJS",
    "outputId": "28da0496-ca40-445c-bdf4-755769a7a8f8"
   },
   "outputs": [
    {
     "data": {
      "text/plain": [
       "array([[0.77011494],\n",
       "       [0.96551724],\n",
       "       [0.67816092],\n",
       "       ...,\n",
       "       [0.66666667],\n",
       "       [0.16091954],\n",
       "       [0.67816092]])"
      ]
     },
     "execution_count": 57,
     "metadata": {},
     "output_type": "execute_result"
    }
   ],
   "source": [
    "scaled_train_examples"
   ]
  },
  {
   "cell_type": "markdown",
   "metadata": {
    "id": "K5KGxUvWGmVB"
   },
   "source": [
    "## Creating a simple NN"
   ]
  },
  {
   "cell_type": "code",
   "execution_count": 58,
   "metadata": {
    "id": "xNXpu7SqFxrV"
   },
   "outputs": [],
   "source": [
    "# lets create a ANN\n",
    "\n",
    "import tensorflow as tf\n",
    "from tensorflow import keras\n",
    "from tensorflow.keras.models import Sequential\n",
    "from tensorflow.keras.layers import Activation, Dense\n",
    "from tensorflow.keras.optimizers import Adam\n",
    "from tensorflow.keras.metrics import CategoricalCrossentropy"
   ]
  },
  {
   "cell_type": "code",
   "execution_count": 59,
   "metadata": {
    "colab": {
     "base_uri": "https://localhost:8080/"
    },
    "id": "8qNQGwOvHMqT",
    "outputId": "04d37602-f6b0-40b8-cd3e-4525c480d085"
   },
   "outputs": [
    {
     "name": "stdout",
     "output_type": "stream",
     "text": [
      "number of GPU available:  0\n"
     ]
    }
   ],
   "source": [
    "# Checking for GPU\n",
    "\n",
    "physical_devices = tf.config.experimental.list_physical_devices('GPU')\n",
    "print(\"number of GPU available: \", len(physical_devices))\n",
    "\n",
    "# code to set the GPU\n",
    "#tf.config.experimental.set_memory_growth(physical_devices, True)"
   ]
  },
  {
   "cell_type": "code",
   "execution_count": 60,
   "metadata": {
    "id": "S5MIgVDlHyYZ"
   },
   "outputs": [],
   "source": [
    "# defining the model\n",
    "# Dense means a fully connected layer\n",
    "# We use multiple Dense layers to specify the number of fully connect layers with its respective neurons and activations\n",
    "\n",
    "model = Sequential([\n",
    "                    Dense(units=16, input_shape=(1,), activation='relu'),\n",
    "                    Dense(units=32, activation='relu'),\n",
    "                    Dense(units=2, activation='softmax')\n",
    "])"
   ]
  },
  {
   "cell_type": "code",
   "execution_count": 61,
   "metadata": {
    "colab": {
     "base_uri": "https://localhost:8080/"
    },
    "id": "VmbYpbNlImh2",
    "outputId": "7fdf7126-39e9-4473-9ece-5f5ad3ba8d5a"
   },
   "outputs": [
    {
     "name": "stdout",
     "output_type": "stream",
     "text": [
      "Model: \"sequential_1\"\n",
      "_________________________________________________________________\n",
      " Layer (type)                Output Shape              Param #   \n",
      "=================================================================\n",
      " dense_3 (Dense)             (None, 16)                32        \n",
      "                                                                 \n",
      " dense_4 (Dense)             (None, 32)                544       \n",
      "                                                                 \n",
      " dense_5 (Dense)             (None, 2)                 66        \n",
      "                                                                 \n",
      "=================================================================\n",
      "Total params: 642\n",
      "Trainable params: 642\n",
      "Non-trainable params: 0\n",
      "_________________________________________________________________\n"
     ]
    }
   ],
   "source": [
    "# checking for the model summary\n",
    "\n",
    "model.summary()"
   ]
  },
  {
   "cell_type": "code",
   "execution_count": 62,
   "metadata": {
    "id": "qXbAAS0lI8nY"
   },
   "outputs": [],
   "source": [
    "# compiling the model for backprogation and setting the optimizers for learning and loss and the required metrics\n",
    "\n",
    "model.compile(optimizer=Adam(learning_rate=0.0001), loss='sparse_categorical_crossentropy', metrics=['accuracy'])"
   ]
  },
  {
   "cell_type": "code",
   "execution_count": 44,
   "metadata": {
    "colab": {
     "base_uri": "https://localhost:8080/"
    },
    "id": "yCfdOIQOKjyt",
    "outputId": "5ba283e0-54a6-4ff3-a3a3-c224d4ae7329"
   },
   "outputs": [
    {
     "name": "stdout",
     "output_type": "stream",
     "text": [
      "Epoch 1/30\n",
      "210/210 - 1s - loss: 0.6671 - accuracy: 0.5590 - 805ms/epoch - 4ms/step\n",
      "Epoch 2/30\n",
      "210/210 - 0s - loss: 0.6453 - accuracy: 0.6752 - 243ms/epoch - 1ms/step\n",
      "Epoch 3/30\n",
      "210/210 - 0s - loss: 0.6203 - accuracy: 0.7471 - 241ms/epoch - 1ms/step\n",
      "Epoch 4/30\n",
      "210/210 - 0s - loss: 0.5943 - accuracy: 0.7767 - 241ms/epoch - 1ms/step\n",
      "Epoch 5/30\n",
      "210/210 - 0s - loss: 0.5673 - accuracy: 0.7914 - 253ms/epoch - 1ms/step\n",
      "Epoch 6/30\n",
      "210/210 - 0s - loss: 0.5386 - accuracy: 0.8181 - 235ms/epoch - 1ms/step\n",
      "Epoch 7/30\n",
      "210/210 - 0s - loss: 0.5093 - accuracy: 0.8343 - 226ms/epoch - 1ms/step\n",
      "Epoch 8/30\n",
      "210/210 - 0s - loss: 0.4802 - accuracy: 0.8524 - 232ms/epoch - 1ms/step\n",
      "Epoch 9/30\n",
      "210/210 - 0s - loss: 0.4520 - accuracy: 0.8648 - 239ms/epoch - 1ms/step\n",
      "Epoch 10/30\n",
      "210/210 - 0s - loss: 0.4255 - accuracy: 0.8786 - 249ms/epoch - 1ms/step\n",
      "Epoch 11/30\n",
      "210/210 - 0s - loss: 0.4013 - accuracy: 0.8914 - 231ms/epoch - 1ms/step\n",
      "Epoch 12/30\n",
      "210/210 - 0s - loss: 0.3799 - accuracy: 0.8929 - 226ms/epoch - 1ms/step\n",
      "Epoch 13/30\n",
      "210/210 - 0s - loss: 0.3612 - accuracy: 0.9014 - 242ms/epoch - 1ms/step\n",
      "Epoch 14/30\n",
      "210/210 - 0s - loss: 0.3450 - accuracy: 0.9024 - 239ms/epoch - 1ms/step\n",
      "Epoch 15/30\n",
      "210/210 - 0s - loss: 0.3309 - accuracy: 0.9076 - 227ms/epoch - 1ms/step\n",
      "Epoch 16/30\n",
      "210/210 - 0s - loss: 0.3189 - accuracy: 0.9186 - 230ms/epoch - 1ms/step\n",
      "Epoch 17/30\n",
      "210/210 - 0s - loss: 0.3087 - accuracy: 0.9162 - 244ms/epoch - 1ms/step\n",
      "Epoch 18/30\n",
      "210/210 - 0s - loss: 0.3000 - accuracy: 0.9224 - 236ms/epoch - 1ms/step\n",
      "Epoch 19/30\n",
      "210/210 - 0s - loss: 0.2927 - accuracy: 0.9276 - 245ms/epoch - 1ms/step\n",
      "Epoch 20/30\n",
      "210/210 - 0s - loss: 0.2865 - accuracy: 0.9243 - 223ms/epoch - 1ms/step\n",
      "Epoch 21/30\n",
      "210/210 - 0s - loss: 0.2813 - accuracy: 0.9300 - 247ms/epoch - 1ms/step\n",
      "Epoch 22/30\n",
      "210/210 - 0s - loss: 0.2766 - accuracy: 0.9305 - 248ms/epoch - 1ms/step\n",
      "Epoch 23/30\n",
      "210/210 - 0s - loss: 0.2727 - accuracy: 0.9314 - 231ms/epoch - 1ms/step\n",
      "Epoch 24/30\n",
      "210/210 - 0s - loss: 0.2694 - accuracy: 0.9300 - 226ms/epoch - 1ms/step\n",
      "Epoch 25/30\n",
      "210/210 - 0s - loss: 0.2665 - accuracy: 0.9348 - 230ms/epoch - 1ms/step\n",
      "Epoch 26/30\n",
      "210/210 - 0s - loss: 0.2641 - accuracy: 0.9333 - 246ms/epoch - 1ms/step\n",
      "Epoch 27/30\n",
      "210/210 - 0s - loss: 0.2617 - accuracy: 0.9348 - 229ms/epoch - 1ms/step\n",
      "Epoch 28/30\n",
      "210/210 - 0s - loss: 0.2598 - accuracy: 0.9348 - 230ms/epoch - 1ms/step\n",
      "Epoch 29/30\n",
      "210/210 - 0s - loss: 0.2581 - accuracy: 0.9357 - 225ms/epoch - 1ms/step\n",
      "Epoch 30/30\n",
      "210/210 - 0s - loss: 0.2566 - accuracy: 0.9348 - 260ms/epoch - 1ms/step\n"
     ]
    },
    {
     "data": {
      "text/plain": [
       "<keras.callbacks.History at 0x7fe653300dd0>"
      ]
     },
     "execution_count": 44,
     "metadata": {},
     "output_type": "execute_result"
    }
   ],
   "source": [
    "# fitting the model\n",
    "# batch size represent how many sample are included to be processed in batches at a time, \n",
    "# so the total samples are divided into 10 batches in this case\n",
    "# epochs represents that the model will be trained 30 times \n",
    "# shuffle is to shuffle the data\n",
    "# verbose is to see the output when the model is training, we can set verbose to 0 , 1 or 2\n",
    "\n",
    "model.fit(x=scaled_train_examples, y=train_labels, batch_size=10, epochs=30, shuffle=True, verbose=2)"
   ]
  },
  {
   "cell_type": "code",
   "execution_count": null,
   "metadata": {
    "id": "tZ_WjcS7MpFx"
   },
   "outputs": [],
   "source": [
    "# To check the generalization we have to test the trained model on unseen data we need pass a validation set\n",
    "\n",
    "# We can create validation set in 2 ways, one as a complete external dataset and the other way is to split a portion of the training dataset\n",
    "\n",
    "# method 1 (passing a seperate data)\n",
    "model.fit(x=scaled_train_examples, y=train_labels, validation_data= valid_data ,batch_size=10, epochs=30, shuffle=True, verbose=2)\n",
    "\n",
    "# method 2 (splitting the training dataset)\n",
    "model.fit(x=scaled_train_examples, y=train_labels, validation_split= 0.1 ,batch_size=10, epochs=30, shuffle=True, verbose=2)\n"
   ]
  },
  {
   "cell_type": "markdown",
   "metadata": {
    "id": "UZFj2iO7QzSc"
   },
   "source": [
    "#### Using Validation set"
   ]
  },
  {
   "cell_type": "code",
   "execution_count": 63,
   "metadata": {
    "colab": {
     "base_uri": "https://localhost:8080/"
    },
    "id": "u4p24evyPGIG",
    "outputId": "45f8dd40-e3c0-4be2-b86a-64f0fc3750e7"
   },
   "outputs": [
    {
     "name": "stdout",
     "output_type": "stream",
     "text": [
      "Epoch 1/30\n",
      "189/189 - 1s - loss: 0.6902 - accuracy: 0.4646 - val_loss: 0.6769 - val_accuracy: 0.5190 - 728ms/epoch - 4ms/step\n",
      "Epoch 2/30\n",
      "189/189 - 0s - loss: 0.6609 - accuracy: 0.6026 - val_loss: 0.6505 - val_accuracy: 0.5714 - 258ms/epoch - 1ms/step\n",
      "Epoch 3/30\n",
      "189/189 - 0s - loss: 0.6335 - accuracy: 0.6354 - val_loss: 0.6261 - val_accuracy: 0.6476 - 265ms/epoch - 1ms/step\n",
      "Epoch 4/30\n",
      "189/189 - 0s - loss: 0.6075 - accuracy: 0.6868 - val_loss: 0.6008 - val_accuracy: 0.6619 - 245ms/epoch - 1ms/step\n",
      "Epoch 5/30\n",
      "189/189 - 0s - loss: 0.5803 - accuracy: 0.7296 - val_loss: 0.5743 - val_accuracy: 0.7048 - 260ms/epoch - 1ms/step\n",
      "Epoch 6/30\n",
      "189/189 - 0s - loss: 0.5538 - accuracy: 0.7593 - val_loss: 0.5466 - val_accuracy: 0.7524 - 250ms/epoch - 1ms/step\n",
      "Epoch 7/30\n",
      "189/189 - 0s - loss: 0.5224 - accuracy: 0.7926 - val_loss: 0.5142 - val_accuracy: 0.8333 - 243ms/epoch - 1ms/step\n",
      "Epoch 8/30\n",
      "189/189 - 0s - loss: 0.4922 - accuracy: 0.8196 - val_loss: 0.4838 - val_accuracy: 0.8381 - 243ms/epoch - 1ms/step\n",
      "Epoch 9/30\n",
      "189/189 - 0s - loss: 0.4632 - accuracy: 0.8545 - val_loss: 0.4552 - val_accuracy: 0.8381 - 261ms/epoch - 1ms/step\n",
      "Epoch 10/30\n",
      "189/189 - 0s - loss: 0.4358 - accuracy: 0.8661 - val_loss: 0.4280 - val_accuracy: 0.8571 - 246ms/epoch - 1ms/step\n",
      "Epoch 11/30\n",
      "189/189 - 0s - loss: 0.4109 - accuracy: 0.8815 - val_loss: 0.4039 - val_accuracy: 0.8714 - 291ms/epoch - 2ms/step\n",
      "Epoch 12/30\n",
      "189/189 - 0s - loss: 0.3886 - accuracy: 0.8894 - val_loss: 0.3826 - val_accuracy: 0.8714 - 256ms/epoch - 1ms/step\n",
      "Epoch 13/30\n",
      "189/189 - 0s - loss: 0.3688 - accuracy: 0.8921 - val_loss: 0.3624 - val_accuracy: 0.8905 - 270ms/epoch - 1ms/step\n",
      "Epoch 14/30\n",
      "189/189 - 0s - loss: 0.3514 - accuracy: 0.9032 - val_loss: 0.3444 - val_accuracy: 0.9000 - 248ms/epoch - 1ms/step\n",
      "Epoch 15/30\n",
      "189/189 - 0s - loss: 0.3366 - accuracy: 0.9090 - val_loss: 0.3297 - val_accuracy: 0.9190 - 266ms/epoch - 1ms/step\n",
      "Epoch 16/30\n",
      "189/189 - 0s - loss: 0.3238 - accuracy: 0.9138 - val_loss: 0.3174 - val_accuracy: 0.9190 - 280ms/epoch - 1ms/step\n",
      "Epoch 17/30\n",
      "189/189 - 0s - loss: 0.3132 - accuracy: 0.9143 - val_loss: 0.3063 - val_accuracy: 0.9190 - 272ms/epoch - 1ms/step\n",
      "Epoch 18/30\n",
      "189/189 - 0s - loss: 0.3040 - accuracy: 0.9153 - val_loss: 0.2971 - val_accuracy: 0.9238 - 253ms/epoch - 1ms/step\n",
      "Epoch 19/30\n",
      "189/189 - 0s - loss: 0.2966 - accuracy: 0.9222 - val_loss: 0.2901 - val_accuracy: 0.9238 - 241ms/epoch - 1ms/step\n",
      "Epoch 20/30\n",
      "189/189 - 0s - loss: 0.2901 - accuracy: 0.9212 - val_loss: 0.2847 - val_accuracy: 0.9238 - 251ms/epoch - 1ms/step\n",
      "Epoch 21/30\n",
      "189/189 - 0s - loss: 0.2850 - accuracy: 0.9201 - val_loss: 0.2781 - val_accuracy: 0.9238 - 238ms/epoch - 1ms/step\n",
      "Epoch 22/30\n",
      "189/189 - 0s - loss: 0.2803 - accuracy: 0.9217 - val_loss: 0.2722 - val_accuracy: 0.9429 - 253ms/epoch - 1ms/step\n",
      "Epoch 23/30\n",
      "189/189 - 0s - loss: 0.2765 - accuracy: 0.9249 - val_loss: 0.2688 - val_accuracy: 0.9429 - 295ms/epoch - 2ms/step\n",
      "Epoch 24/30\n",
      "189/189 - 0s - loss: 0.2732 - accuracy: 0.9259 - val_loss: 0.2650 - val_accuracy: 0.9429 - 252ms/epoch - 1ms/step\n",
      "Epoch 25/30\n",
      "189/189 - 0s - loss: 0.2704 - accuracy: 0.9254 - val_loss: 0.2619 - val_accuracy: 0.9429 - 248ms/epoch - 1ms/step\n",
      "Epoch 26/30\n",
      "189/189 - 0s - loss: 0.2679 - accuracy: 0.9333 - val_loss: 0.2599 - val_accuracy: 0.9429 - 246ms/epoch - 1ms/step\n",
      "Epoch 27/30\n",
      "189/189 - 0s - loss: 0.2654 - accuracy: 0.9280 - val_loss: 0.2569 - val_accuracy: 0.9429 - 240ms/epoch - 1ms/step\n",
      "Epoch 28/30\n",
      "189/189 - 0s - loss: 0.2635 - accuracy: 0.9280 - val_loss: 0.2554 - val_accuracy: 0.9429 - 249ms/epoch - 1ms/step\n",
      "Epoch 29/30\n",
      "189/189 - 0s - loss: 0.2619 - accuracy: 0.9323 - val_loss: 0.2544 - val_accuracy: 0.9429 - 258ms/epoch - 1ms/step\n",
      "Epoch 30/30\n",
      "189/189 - 0s - loss: 0.2602 - accuracy: 0.9280 - val_loss: 0.2520 - val_accuracy: 0.9429 - 248ms/epoch - 1ms/step\n"
     ]
    },
    {
     "data": {
      "text/plain": [
       "<keras.callbacks.History at 0x7fe6554cc9d0>"
      ]
     },
     "execution_count": 63,
     "metadata": {},
     "output_type": "execute_result"
    }
   ],
   "source": [
    "# we will be using 2nd method for this experiment\n",
    "# while using the validation split we need to shuffle the data first else only the last 10% of the data would be considered in this case\n",
    "# We have to shuffle the data before fitting the data to the model\n",
    "\n",
    "model.fit(x=scaled_train_examples, y=train_labels, validation_split= 0.1 ,batch_size=10, epochs=30, shuffle=True, verbose=2)\n"
   ]
  },
  {
   "cell_type": "code",
   "execution_count": null,
   "metadata": {
    "id": "_ygU5oEtQNbp"
   },
   "outputs": [],
   "source": []
  },
  {
   "cell_type": "markdown",
   "metadata": {
    "id": "MHjvX2slQ3Uj"
   },
   "source": [
    "#### Creating and Using test set for model inference"
   ]
  },
  {
   "cell_type": "code",
   "execution_count": null,
   "metadata": {
    "id": "Fjbw9C30Q7CC"
   },
   "outputs": [],
   "source": [
    "# following the same example to create the test data"
   ]
  },
  {
   "cell_type": "code",
   "execution_count": 64,
   "metadata": {
    "id": "b2E6WJ1ERsdu"
   },
   "outputs": [],
   "source": [
    "# empty test list\n",
    "\n",
    "test_labels = []\n",
    "test_samples = []\n",
    "\n",
    "\n",
    "# generating the experimental dataset\n",
    "\n",
    "for i in range(50):\n",
    "  # 5% of younger patients who experienced side effects\n",
    "  random_younger = randint(13,64)\n",
    "  test_samples.append(random_younger)\n",
    "  test_labels.append(1)\n",
    "\n",
    "  # 5% of older patients who did not experience side effects\n",
    "  random_older = randint(65,100)\n",
    "  test_samples.append(random_older)\n",
    "  test_labels.append(0)\n",
    "\n",
    "for i in range(1000):\n",
    "  # 95% of younger patients who experienced no side effects\n",
    "  random_younger = randint(13,64)\n",
    "  test_samples.append(random_younger)\n",
    "  test_labels.append(0)\n",
    "\n",
    "  # 95% of older patients who experienced side effects\n",
    "  random_older = randint(65,100)\n",
    "  test_samples.append(random_older)\n",
    "  test_labels.append(1)\n",
    "\n",
    "\n",
    "\n",
    "# transforming into numpy array\n",
    "test_labels = np.array(train_labels)\n",
    "test_samples = np.array(train_samples)\n",
    "\n",
    "# shuffling the data\n",
    "test_labels, test_samples = shuffle(test_labels, test_samples)\n",
    "\n",
    "\n",
    "# scalaing the data in the range 0 to 1\n",
    "scalar = MinMaxScaler(feature_range=(0,1))\n",
    "\n",
    "\n",
    "# scaling, reshaping and fitting the data\n",
    "# also we need to reshape the data to pass it through the fit transform function\n",
    "scaled_test_examples = scalar.fit_transform(test_samples.reshape(-1,1))"
   ]
  },
  {
   "cell_type": "code",
   "execution_count": null,
   "metadata": {
    "id": "ttLIzMZrSe1q"
   },
   "outputs": [],
   "source": []
  },
  {
   "cell_type": "markdown",
   "metadata": {
    "id": "VBsty2hdSpR5"
   },
   "source": [
    "### Predict / Inference"
   ]
  },
  {
   "cell_type": "code",
   "execution_count": 65,
   "metadata": {
    "id": "JSWZWXwMSsTK"
   },
   "outputs": [],
   "source": [
    "# we need to use the same batch size for predictions that we used for training\n",
    "# verbose is 0 to get no output\n",
    "\n",
    "predictions = model.predict(x= scaled_test_examples, batch_size=10, verbose=0)"
   ]
  },
  {
   "cell_type": "code",
   "execution_count": null,
   "metadata": {
    "colab": {
     "base_uri": "https://localhost:8080/"
    },
    "id": "1VXPbFdITHGV",
    "outputId": "184118d9-02fe-49aa-c437-59545c557dc4"
   },
   "outputs": [],
   "source": [
    "# In this case [0.9033693  0.09663066], in the form [0 , 1]\n",
    "#the model tells 90.33% of probability that the person does not have sideeffect and 9.6% of probability that he has a sideeffect\n",
    "\n",
    "for i in predictions():\n",
    "  print(i)"
   ]
  },
  {
   "cell_type": "code",
   "execution_count": 69,
   "metadata": {
    "id": "zburyQi2TKgb"
   },
   "outputs": [],
   "source": [
    "# to get the highest probable prediction we can run argmax,\n",
    "\n",
    "rounded_predictions = np.argmax(predictions, axis=-1)"
   ]
  },
  {
   "cell_type": "code",
   "execution_count": 70,
   "metadata": {
    "colab": {
     "base_uri": "https://localhost:8080/"
    },
    "id": "2VaUnVt7UZ-u",
    "outputId": "d3c70305-f940-42bf-c1b7-55c2b49647c3"
   },
   "outputs": [
    {
     "data": {
      "text/plain": [
       "array([0, 0, 1, ..., 0, 0, 1])"
      ]
     },
     "execution_count": 70,
     "metadata": {},
     "output_type": "execute_result"
    }
   ],
   "source": [
    "rounded_predictions"
   ]
  },
  {
   "cell_type": "code",
   "execution_count": null,
   "metadata": {
    "id": "QsrQ7gQLUmiP"
   },
   "outputs": [],
   "source": []
  },
  {
   "cell_type": "markdown",
   "metadata": {
    "id": "xqh1F4E-VRUd"
   },
   "source": [
    "#### Confusion matrix"
   ]
  },
  {
   "cell_type": "code",
   "execution_count": 71,
   "metadata": {
    "id": "Cy0hvT1HVT5J"
   },
   "outputs": [],
   "source": [
    "%matplotlib inline\n",
    "from sklearn.metrics import confusion_matrix\n",
    "import itertools\n",
    "import matplotlib.pyplot as plt"
   ]
  },
  {
   "cell_type": "code",
   "execution_count": 72,
   "metadata": {
    "id": "JW6tdRN9VjHM"
   },
   "outputs": [],
   "source": [
    "# built in function to build the confusion matrix\n",
    "# y_true is the known labels and y_pred is the predicted labels\n",
    "\n",
    "cm = confusion_matrix(y_true= test_labels, y_pred= rounded_predictions)"
   ]
  },
  {
   "cell_type": "code",
   "execution_count": 74,
   "metadata": {
    "colab": {
     "base_uri": "https://localhost:8080/",
     "height": 284
    },
    "id": "xlxBAOTxV5r5",
    "outputId": "042deb0c-5f4f-4eb5-a422-6e3d7ab989c1"
   },
   "outputs": [
    {
     "data": {
      "image/png": "[encoded data removed]",
      "text/plain": [
       "<Figure size 432x288 with 2 Axes>"
      ]
     },
     "metadata": {
      "needs_background": "light"
     },
     "output_type": "display_data"
    }
   ],
   "source": [
    "# code to plot the confusion matrix\n",
    "\n",
    "from sklearn.metrics import ConfusionMatrixDisplay\n",
    "\n",
    "disp = ConfusionMatrixDisplay(confusion_matrix=cm, display_labels=['no_side_effects', 'had_side_effects'])\n",
    "\n",
    "disp.plot(cmap=plt.cm.Blues)\n",
    "plt.show()"
   ]
  },
  {
   "cell_type": "markdown",
   "metadata": {
    "id": "sbfcCL8DX9W9"
   },
   "source": [
    "### Saving the model"
   ]
  },
  {
   "cell_type": "code",
   "execution_count": 75,
   "metadata": {
    "id": "bOWsqfEGXiCg"
   },
   "outputs": [],
   "source": [
    "# checking the model path and saving it\n",
    "# saves all the weights\n",
    "\n",
    "import os.path\n",
    "\n",
    "if os.path.isfile('models/medical_trial_model.h5') is False:\n",
    "  model.save('models/medical_trial_model.h5')"
   ]
  },
  {
   "cell_type": "code",
   "execution_count": 76,
   "metadata": {
    "id": "pXlLSnsbY_Z3"
   },
   "outputs": [],
   "source": [
    "# Loading the model\n",
    "\n",
    "from tensorflow.keras.models import load_model\n",
    "\n",
    "new_model = load_model('models/medical_trial_model.h5')"
   ]
  },
  {
   "cell_type": "code",
   "execution_count": 77,
   "metadata": {
    "colab": {
     "base_uri": "https://localhost:8080/"
    },
    "id": "HhKR2NtFZiCz",
    "outputId": "ac3155a0-f406-4795-c0a0-6b7c368a0ab4"
   },
   "outputs": [
    {
     "name": "stdout",
     "output_type": "stream",
     "text": [
      "Model: \"sequential_1\"\n",
      "_________________________________________________________________\n",
      " Layer (type)                Output Shape              Param #   \n",
      "=================================================================\n",
      " dense_3 (Dense)             (None, 16)                32        \n",
      "                                                                 \n",
      " dense_4 (Dense)             (None, 32)                544       \n",
      "                                                                 \n",
      " dense_5 (Dense)             (None, 2)                 66        \n",
      "                                                                 \n",
      "=================================================================\n",
      "Total params: 642\n",
      "Trainable params: 642\n",
      "Non-trainable params: 0\n",
      "_________________________________________________________________\n"
     ]
    }
   ],
   "source": [
    "new_model.summary()"
   ]
  },
  {
   "cell_type": "code",
   "execution_count": 78,
   "metadata": {
    "colab": {
     "base_uri": "https://localhost:8080/"
    },
    "id": "bS0kUZlsZmft",
    "outputId": "c4e51cf7-9d68-428c-e05d-bb119308e296"
   },
   "outputs": [
    {
     "data": {
      "text/plain": [
       "[array([[-0.19831261, -0.3535055 ,  0.06443538, -0.07937759,  0.46293327,\n",
       "         -0.0623337 , -0.25150448, -0.00314897, -0.12273343,  0.42212453,\n",
       "          0.4475469 ,  0.3661439 ,  0.7441649 , -0.2045488 ,  0.55753696,\n",
       "         -0.15590507]], dtype=float32),\n",
       " array([ 0.        ,  0.        ,  0.26459566,  0.        , -0.1339832 ,\n",
       "         0.        ,  0.        ,  0.        ,  0.16704386, -0.07630388,\n",
       "        -0.13442123, -0.11302488, -0.11903106,  0.        , -0.12587428,\n",
       "         0.        ], dtype=float32),\n",
       " array([[-1.54108256e-01, -2.90638089e-01, -1.60395220e-01,\n",
       "          8.95375013e-03,  1.80596799e-01, -1.30255342e-01,\n",
       "          3.47052723e-01, -1.28869295e-01, -7.76060820e-02,\n",
       "          1.14806592e-01, -7.79382885e-02,  2.59027779e-02,\n",
       "          2.83868223e-01, -1.32560939e-01,  6.30408525e-03,\n",
       "          1.42041862e-01,  1.87512904e-01,  1.98795468e-01,\n",
       "          2.43600696e-01,  3.34640890e-01,  1.55089468e-01,\n",
       "         -1.17166132e-01, -1.75384164e-01,  1.39096975e-01,\n",
       "         -2.78263867e-01, -1.27280608e-01, -1.32744908e-02,\n",
       "          2.53761679e-01, -2.59555966e-01,  3.06044549e-01,\n",
       "          3.20563287e-01, -2.44496047e-01],\n",
       "        [-2.76729375e-01,  2.46706635e-01, -3.30395877e-01,\n",
       "         -1.86463296e-01, -1.52623847e-01,  2.56913096e-01,\n",
       "         -1.95659488e-01,  1.16950005e-01,  2.97881097e-01,\n",
       "          1.72823340e-01, -8.53958428e-02,  1.13237709e-01,\n",
       "          2.71471649e-01,  2.74804503e-01,  2.36649662e-01,\n",
       "          2.24812299e-01,  1.48866385e-01, -1.44731939e-01,\n",
       "         -1.15117714e-01, -1.92954510e-01, -3.15320134e-01,\n",
       "          7.09027052e-03,  3.35482568e-01, -1.03741601e-01,\n",
       "         -1.04487598e-01,  2.99379021e-01,  2.09788233e-01,\n",
       "         -5.22781014e-02, -2.43309617e-01, -1.81889609e-01,\n",
       "         -2.47346699e-01, -1.52755260e-01],\n",
       "        [ 1.66900009e-01,  2.94375867e-01,  3.58229399e-01,\n",
       "          5.10587953e-02,  2.16794819e-01,  2.80817777e-01,\n",
       "         -2.24485788e-02, -1.90368950e-01,  4.10863608e-01,\n",
       "         -2.52725989e-01,  2.24888697e-01,  9.34116840e-02,\n",
       "          6.09470382e-02, -2.59538561e-01, -2.15930939e-01,\n",
       "         -2.97869384e-01,  1.95816174e-01, -3.42671573e-01,\n",
       "          1.11184090e-01,  3.84002507e-01, -3.51330191e-01,\n",
       "         -2.51118004e-01,  1.76328197e-01, -1.92019999e-01,\n",
       "          2.64061481e-01,  2.92231351e-01,  5.17652705e-02,\n",
       "         -2.66810358e-01,  2.03136563e-01,  2.92962521e-01,\n",
       "          4.90548432e-01,  1.77624688e-01],\n",
       "        [-2.02122718e-01,  2.44400054e-01,  2.06181407e-02,\n",
       "         -2.10149288e-02, -2.05318198e-01,  9.18673873e-02,\n",
       "          3.04364532e-01,  2.81040967e-02, -2.70392835e-01,\n",
       "         -1.44958436e-01,  2.95457244e-03, -3.41032475e-01,\n",
       "         -2.91577786e-01,  8.63636136e-02, -3.44468623e-01,\n",
       "         -2.93339014e-01,  3.37522298e-01,  1.59927875e-01,\n",
       "         -4.75960076e-02,  3.42124850e-01,  1.63018674e-01,\n",
       "          3.35890800e-01,  1.63735420e-01, -3.28727126e-01,\n",
       "          1.43918931e-01,  1.87041968e-01, -2.13310421e-01,\n",
       "          2.11426646e-01,  7.63550699e-02, -3.13102782e-01,\n",
       "         -1.63995326e-01,  1.26278102e-01],\n",
       "        [-4.11283493e-01,  4.82394956e-02, -1.91199511e-01,\n",
       "          4.38862413e-01, -8.10444504e-02, -5.57908900e-02,\n",
       "          1.68950349e-01,  2.87412018e-01, -5.25416017e-01,\n",
       "          2.02253744e-01,  4.05095458e-01,  3.61008853e-01,\n",
       "         -3.17167938e-01,  3.27363223e-01, -7.50935376e-02,\n",
       "         -2.39908963e-01,  5.25573730e-01,  1.81244701e-01,\n",
       "          4.39248085e-02,  2.15216186e-02,  2.50402987e-01,\n",
       "         -3.29967409e-01, -3.85468543e-01, -7.04040378e-02,\n",
       "          5.76795995e-01, -2.24756926e-01, -2.64956951e-02,\n",
       "          1.91012427e-01,  1.14455767e-01,  4.12555993e-01,\n",
       "         -2.92447776e-01,  1.99085966e-01],\n",
       "        [-2.56963611e-01, -1.89574331e-01, -5.89507222e-02,\n",
       "          2.56535381e-01,  2.54424244e-01, -2.62907743e-02,\n",
       "          1.18702978e-01, -3.02271247e-02, -1.53711915e-01,\n",
       "         -1.64227217e-01,  1.79890066e-01, -9.97795463e-02,\n",
       "         -5.44061959e-02, -8.16994607e-02, -1.53263509e-02,\n",
       "          4.29506600e-02,  2.62257248e-01, -1.33424610e-01,\n",
       "         -2.04057842e-01, -7.87340999e-02, -3.25466633e-01,\n",
       "          1.94804579e-01, -2.13703483e-01,  2.74669737e-01,\n",
       "         -1.97313592e-01,  5.00673354e-02, -1.53560609e-01,\n",
       "         -3.41239184e-01,  2.64517993e-01, -1.29119053e-01,\n",
       "         -8.28387737e-02,  1.07553095e-01],\n",
       "        [-2.62459397e-01,  3.34838599e-01,  4.48863804e-02,\n",
       "         -2.88533449e-01, -2.01637521e-01,  1.49139076e-01,\n",
       "         -3.38664085e-01,  9.54004824e-02,  3.13312322e-01,\n",
       "          1.03271574e-01,  5.65047562e-02, -5.94751835e-02,\n",
       "         -8.25754404e-02,  2.90654689e-01,  2.93259352e-01,\n",
       "          1.86952382e-01,  1.55313164e-01,  3.23768228e-01,\n",
       "         -3.95727754e-02,  7.73867667e-02, -5.07673025e-02,\n",
       "         -1.79641545e-02, -1.73694655e-01, -2.18505099e-01,\n",
       "         -8.76265764e-02,  1.82812780e-01,  1.26452595e-01,\n",
       "          5.34115136e-02,  3.31840813e-02, -2.68758655e-01,\n",
       "         -1.35972053e-01, -1.77497312e-01],\n",
       "        [-1.04034856e-01,  4.35850024e-03, -1.27360523e-01,\n",
       "         -1.68252155e-01,  2.13673800e-01, -2.09601417e-01,\n",
       "         -1.21297285e-01,  1.35988742e-01, -3.41029435e-01,\n",
       "          2.92838424e-01,  4.13407385e-02, -2.83884883e-01,\n",
       "          1.45760655e-01,  2.57937878e-01,  2.09200531e-01,\n",
       "          2.32636929e-04,  1.51615053e-01, -3.90098691e-02,\n",
       "         -2.77903676e-02,  2.70816773e-01,  2.58052319e-01,\n",
       "          1.23550951e-01,  1.14530951e-01,  2.22969621e-01,\n",
       "          2.34572858e-01, -8.16197395e-02,  1.92377836e-01,\n",
       "         -1.00449502e-01, -1.24269143e-01, -4.84371781e-02,\n",
       "         -2.99827099e-01,  1.66248649e-01],\n",
       "        [ 1.64431214e-01,  6.25898182e-01,  9.43469703e-02,\n",
       "         -2.98721731e-01,  4.49178740e-02,  5.65159619e-02,\n",
       "          1.16641037e-01, -2.92505294e-01,  4.57023352e-01,\n",
       "         -3.14048260e-01, -3.77984010e-02, -4.48119074e-01,\n",
       "          1.35442942e-01, -7.74597451e-02,  1.04581684e-01,\n",
       "          5.86169064e-02,  9.10232514e-02, -7.30363429e-02,\n",
       "          1.10213667e-01,  2.86322236e-01,  1.48343697e-01,\n",
       "         -1.68378934e-01,  6.20639622e-01,  2.53613383e-01,\n",
       "         -5.13350844e-01,  4.17296678e-01, -2.83688247e-01,\n",
       "         -3.60605657e-01, -4.67301607e-01, -2.66572058e-01,\n",
       "          5.75000525e-01, -1.99782446e-01],\n",
       "        [-1.13820225e-01,  4.95017059e-02,  7.07921311e-02,\n",
       "          2.58879662e-01,  1.65601492e-01,  3.30634326e-01,\n",
       "         -1.43474802e-01, -1.69882312e-01, -4.32705879e-01,\n",
       "          2.98556566e-01,  1.79077655e-01,  2.65875459e-01,\n",
       "          1.96563259e-01,  1.31448224e-01,  1.62989885e-01,\n",
       "         -3.38416845e-01,  1.76204950e-01, -2.15843201e-01,\n",
       "          4.41981345e-01, -1.92880124e-01, -3.44926089e-01,\n",
       "          7.84376413e-02, -1.60914361e-01, -2.57688224e-01,\n",
       "         -9.93653163e-02,  6.97820038e-02, -9.34362710e-02,\n",
       "          4.97912318e-01,  3.28951210e-01,  2.14604363e-01,\n",
       "          6.79364800e-02,  4.49028879e-01],\n",
       "        [-2.58409142e-01, -4.81403947e-01, -9.11161751e-02,\n",
       "          4.35033619e-01, -7.62114450e-02,  4.97596234e-01,\n",
       "         -2.63615906e-01,  7.52934534e-03,  3.80414091e-02,\n",
       "          1.52093992e-01, -7.72647336e-02, -6.15979321e-02,\n",
       "          2.52142936e-01, -1.56554759e-01, -1.92015648e-01,\n",
       "          2.01897591e-01,  5.63577283e-03,  3.84537578e-02,\n",
       "         -5.35584502e-02, -4.55436409e-01,  2.88847476e-01,\n",
       "         -3.86891067e-02, -2.86072075e-01,  2.54225314e-01,\n",
       "          1.21727735e-01, -5.13037324e-01, -1.86087430e-01,\n",
       "          1.60867587e-01,  5.72202623e-01, -1.16720505e-01,\n",
       "         -5.29346704e-01,  3.28957558e-01],\n",
       "        [ 2.42498014e-02, -2.69237049e-02, -3.70595723e-01,\n",
       "          3.21558326e-01, -2.50670254e-01,  3.63127053e-01,\n",
       "         -1.81561038e-01, -8.90264884e-02, -2.81770319e-01,\n",
       "          5.81126690e-01,  2.99523085e-01, -1.67786866e-01,\n",
       "         -7.63044059e-02, -3.58730644e-01, -3.00167322e-01,\n",
       "         -2.19100639e-01,  4.87070143e-01, -1.54900715e-01,\n",
       "          5.39771676e-01,  4.52317446e-02,  3.72393988e-02,\n",
       "          3.03739309e-01, -3.60256970e-01,  2.95182854e-01,\n",
       "          6.72441581e-03, -3.92845035e-01, -1.21357292e-01,\n",
       "         -9.45309699e-02,  2.17025369e-01,  3.60207409e-01,\n",
       "         -2.89001405e-01,  2.31581569e-01],\n",
       "        [-5.55956662e-02,  1.58154279e-01, -2.29152769e-01,\n",
       "          2.17329741e-01, -2.76543379e-01, -3.92938145e-02,\n",
       "         -2.25695521e-01,  1.38705388e-01, -2.41100967e-01,\n",
       "          3.18429768e-01,  4.88790944e-02,  2.80352235e-01,\n",
       "         -3.68585885e-01,  1.06665812e-01, -1.42709136e-01,\n",
       "          2.87898868e-01,  3.70976806e-01,  7.13655353e-03,\n",
       "          3.70119095e-01, -2.00615115e-02, -1.46723747e-01,\n",
       "         -4.78407145e-02,  8.17432441e-03,  8.20420384e-02,\n",
       "          5.30965030e-01, -1.22554880e-02, -1.02442801e-01,\n",
       "          2.67900378e-01,  4.12384361e-01,  1.07825615e-01,\n",
       "         -2.84677207e-01,  2.35623777e-01],\n",
       "        [ 1.06054842e-02,  1.93216056e-01,  2.48988718e-01,\n",
       "         -1.84805498e-01,  2.94522077e-01,  1.97704285e-01,\n",
       "         -5.94599247e-02, -7.06587732e-02,  4.77134287e-02,\n",
       "          1.92034036e-01, -2.78149486e-01, -2.92828679e-03,\n",
       "          3.43760461e-01,  2.93884069e-01, -2.32683808e-01,\n",
       "         -2.52330065e-01, -1.40063494e-01, -6.37859106e-04,\n",
       "         -1.46109968e-01,  2.49626428e-01,  9.93186235e-02,\n",
       "         -2.50345439e-01,  3.46978456e-01, -3.29447240e-01,\n",
       "          1.33712888e-01, -2.25859895e-01, -1.43996641e-01,\n",
       "          8.27536583e-02,  3.15734774e-01,  1.81197971e-01,\n",
       "         -3.17210257e-01, -1.18779853e-01],\n",
       "        [ 8.07614103e-02, -4.85073656e-01, -3.20857406e-01,\n",
       "         -5.62364906e-02,  1.52289912e-01,  3.78536105e-01,\n",
       "         -3.40513736e-02, -2.21898526e-01,  8.12372267e-02,\n",
       "          2.21868023e-01,  5.61766207e-01,  4.20268387e-01,\n",
       "         -2.67734110e-01, -1.77965596e-01, -4.12328541e-02,\n",
       "         -7.68078268e-02, -1.13339990e-01, -3.20272297e-01,\n",
       "          9.92289931e-02,  4.33100276e-02,  2.69327134e-01,\n",
       "         -2.63555616e-01, -2.43109211e-01, -1.77586779e-01,\n",
       "          7.67519996e-02, -4.80595052e-01, -1.70101419e-01,\n",
       "          4.46657002e-01, -1.52578503e-01,  4.47778255e-01,\n",
       "         -8.49239007e-02,  3.76878977e-01],\n",
       "        [-2.05392212e-01, -6.19261861e-02,  7.16079175e-02,\n",
       "         -2.64656156e-01,  2.28564650e-01, -2.00052559e-02,\n",
       "         -2.38739133e-01, -3.11140418e-01,  2.67455608e-01,\n",
       "          1.90073162e-01,  2.72171050e-01,  2.05550998e-01,\n",
       "          2.52853662e-01, -5.73315918e-02, -7.24321306e-02,\n",
       "         -1.78229079e-01,  1.02272540e-01,  9.79239047e-02,\n",
       "          5.65302968e-02, -4.13807929e-02,  5.55137098e-02,\n",
       "          5.62224686e-02, -2.87427515e-01, -1.34877503e-01,\n",
       "         -3.15420449e-01, -2.68810570e-01,  3.49453777e-01,\n",
       "         -1.38619885e-01, -8.43831897e-03, -5.42146564e-02,\n",
       "         -1.66454166e-01,  2.18599290e-01]], dtype=float32),\n",
       " array([ 0.16251026,  0.1554033 ,  0.19515991, -0.06108671,  0.149937  ,\n",
       "        -0.12245335, -0.01378882, -0.00681457,  0.21462496, -0.02739071,\n",
       "        -0.11393116, -0.06656171, -0.02806876, -0.00378253,  0.        ,\n",
       "         0.        , -0.12466653,  0.        , -0.11464632,  0.15524557,\n",
       "        -0.00920343, -0.00051115,  0.22794458, -0.00336567, -0.09726967,\n",
       "         0.26447538, -0.00315819, -0.02973669, -0.0871651 , -0.10614755,\n",
       "         0.22733778, -0.1189694 ], dtype=float32),\n",
       " array([[ 0.09150119, -0.49516055],\n",
       "        [ 0.49598867, -0.32243806],\n",
       "        [ 0.49556133, -0.42657155],\n",
       "        [-0.43110967,  0.5070577 ],\n",
       "        [ 0.34259313, -0.3187026 ],\n",
       "        [-0.5448158 ,  0.60979193],\n",
       "        [-0.21919931,  0.29364997],\n",
       "        [ 0.02262707, -0.02468256],\n",
       "        [ 0.34109497, -0.79559577],\n",
       "        [-0.5204166 ,  0.5533156 ],\n",
       "        [-0.63700414, -0.02159677],\n",
       "        [ 0.21438214,  0.4567766 ],\n",
       "        [-0.38898516, -0.35873485],\n",
       "        [ 0.23749301, -0.1485847 ],\n",
       "        [ 0.06887326, -0.0496881 ],\n",
       "        [ 0.00888842, -0.08141068],\n",
       "        [-0.0815298 ,  0.49059293],\n",
       "        [ 0.20339444, -0.09756202],\n",
       "        [-0.23762532,  0.5463467 ],\n",
       "        [-0.05556413, -0.44790047],\n",
       "        [ 0.3246696 , -0.03678012],\n",
       "        [-0.40946326, -0.2109348 ],\n",
       "        [ 0.7265308 , -0.44538054],\n",
       "        [ 0.33093813, -0.14792886],\n",
       "        [-0.1467076 ,  0.4819107 ],\n",
       "        [ 0.1760163 , -0.7764651 ],\n",
       "        [-0.02399211,  0.34303874],\n",
       "        [-0.6033806 ,  0.6011089 ],\n",
       "        [-0.66111827,  0.2408323 ],\n",
       "        [-0.46272373,  0.55763537],\n",
       "        [ 0.78060985, -0.46106246],\n",
       "        [-0.33115247,  0.09433256]], dtype=float32),\n",
       " array([ 0.1459776 , -0.14597759], dtype=float32)]"
      ]
     },
     "execution_count": 78,
     "metadata": {},
     "output_type": "execute_result"
    }
   ],
   "source": [
    "# checking the weights\n",
    "\n",
    "new_model.get_weights()"
   ]
  },
  {
   "cell_type": "code",
   "execution_count": 80,
   "metadata": {
    "colab": {
     "base_uri": "https://localhost:8080/"
    },
    "id": "cPYxIjfMZu4W",
    "outputId": "97471d75-f48c-45d1-df2a-ba5defe65fba"
   },
   "outputs": [
    {
     "data": {
      "text/plain": [
       "<keras.optimizer_v2.adam.Adam at 0x7fe64ede4110>"
      ]
     },
     "execution_count": 80,
     "metadata": {},
     "output_type": "execute_result"
    }
   ],
   "source": [
    "# checking the optimizer\n",
    "\n",
    "new_model.optimizer"
   ]
  },
  {
   "cell_type": "code",
   "execution_count": null,
   "metadata": {
    "id": "quLBL84iZ2Nu"
   },
   "outputs": [],
   "source": []
  },
  {
   "cell_type": "markdown",
   "metadata": {
    "id": "Kv43DcrLZ8eU"
   },
   "source": [
    "### saving only model architechture to json\n",
    "\n",
    "---\n",
    "\n"
   ]
  },
  {
   "cell_type": "code",
   "execution_count": 81,
   "metadata": {
    "colab": {
     "base_uri": "https://localhost:8080/",
     "height": 140
    },
    "id": "va3-hXgJaNwU",
    "outputId": "82e88c8f-f98b-47ec-ca25-9d7099b1e698"
   },
   "outputs": [
    {
     "data": {
      "application/vnd.google.colaboratory.intrinsic+json": {
       "type": "string"
      },
      "text/plain": [
       "'{\"class_name\": \"Sequential\", \"config\": {\"name\": \"sequential_1\", \"layers\": [{\"class_name\": \"InputLayer\", \"config\": {\"batch_input_shape\": [null, 1], \"dtype\": \"float32\", \"sparse\": false, \"ragged\": false, \"name\": \"dense_3_input\"}}, {\"class_name\": \"Dense\", \"config\": {\"name\": \"dense_3\", \"trainable\": true, \"batch_input_shape\": [null, 1], \"dtype\": \"float32\", \"units\": 16, \"activation\": \"relu\", \"use_bias\": true, \"kernel_initializer\": {\"class_name\": \"GlorotUniform\", \"config\": {\"seed\": null}}, \"bias_initializer\": {\"class_name\": \"Zeros\", \"config\": {}}, \"kernel_regularizer\": null, \"bias_regularizer\": null, \"activity_regularizer\": null, \"kernel_constraint\": null, \"bias_constraint\": null}}, {\"class_name\": \"Dense\", \"config\": {\"name\": \"dense_4\", \"trainable\": true, \"dtype\": \"float32\", \"units\": 32, \"activation\": \"relu\", \"use_bias\": true, \"kernel_initializer\": {\"class_name\": \"GlorotUniform\", \"config\": {\"seed\": null}}, \"bias_initializer\": {\"class_name\": \"Zeros\", \"config\": {}}, \"kernel_regularizer\": null, \"bias_regularizer\": null, \"activity_regularizer\": null, \"kernel_constraint\": null, \"bias_constraint\": null}}, {\"class_name\": \"Dense\", \"config\": {\"name\": \"dense_5\", \"trainable\": true, \"dtype\": \"float32\", \"units\": 2, \"activation\": \"softmax\", \"use_bias\": true, \"kernel_initializer\": {\"class_name\": \"GlorotUniform\", \"config\": {\"seed\": null}}, \"bias_initializer\": {\"class_name\": \"Zeros\", \"config\": {}}, \"kernel_regularizer\": null, \"bias_regularizer\": null, \"activity_regularizer\": null, \"kernel_constraint\": null, \"bias_constraint\": null}}]}, \"keras_version\": \"2.7.0\", \"backend\": \"tensorflow\"}'"
      ]
     },
     "execution_count": 81,
     "metadata": {},
     "output_type": "execute_result"
    }
   ],
   "source": [
    "# saves as json\n",
    "json_model = model.to_json()\n",
    "json_model"
   ]
  },
  {
   "cell_type": "code",
   "execution_count": 83,
   "metadata": {
    "colab": {
     "base_uri": "https://localhost:8080/"
    },
    "id": "d2mSIq4DaVCH",
    "outputId": "f4bc6ee7-accf-4870-efaf-6114dc4e4580"
   },
   "outputs": [
    {
     "name": "stdout",
     "output_type": "stream",
     "text": [
      "Model: \"sequential_1\"\n",
      "_________________________________________________________________\n",
      " Layer (type)                Output Shape              Param #   \n",
      "=================================================================\n",
      " dense_3 (Dense)             (None, 16)                32        \n",
      "                                                                 \n",
      " dense_4 (Dense)             (None, 32)                544       \n",
      "                                                                 \n",
      " dense_5 (Dense)             (None, 2)                 66        \n",
      "                                                                 \n",
      "=================================================================\n",
      "Total params: 642\n",
      "Trainable params: 642\n",
      "Non-trainable params: 0\n",
      "_________________________________________________________________\n"
     ]
    }
   ],
   "source": [
    "# reconstructing model from json\n",
    "\n",
    "from tensorflow.keras.models import model_from_json\n",
    "model_architechture = model_from_json(json_model)\n",
    "model_architechture.summary()"
   ]
  },
  {
   "cell_type": "code",
   "execution_count": null,
   "metadata": {
    "id": "KUMBFP6Pa9cv"
   },
   "outputs": [],
   "source": []
  },
  {
   "cell_type": "markdown",
   "metadata": {
    "id": "gaVEOFgjatT5"
   },
   "source": [
    "### Saving weights"
   ]
  },
  {
   "cell_type": "code",
   "execution_count": 86,
   "metadata": {
    "id": "vdY1N--bavuH"
   },
   "outputs": [],
   "source": [
    "# checking the model path and saving it\n",
    "# saves all the weights\n",
    "\n",
    "import os.path\n",
    "\n",
    "if os.path.isfile('models/medical_trial_model_weights.h5') is False:\n",
    "  model.save_weights('models/medical_trial_model_weights.h5')"
   ]
  },
  {
   "cell_type": "code",
   "execution_count": 87,
   "metadata": {
    "id": "8ZFhWYIjbh8t"
   },
   "outputs": [],
   "source": [
    "# to be able to use the weights we need to construct the model first\n",
    "\n",
    "model2 = Sequential([\n",
    "                    Dense(units=16, input_shape=(1,), activation='relu'),\n",
    "                    Dense(units=32, activation='relu'),\n",
    "                    Dense(units=2, activation='softmax')\n",
    "])"
   ]
  },
  {
   "cell_type": "code",
   "execution_count": 88,
   "metadata": {
    "id": "57dys3Gqbxfh"
   },
   "outputs": [],
   "source": [
    "# loading the weights \n",
    "# remember that the architechture should be the same when defining the weights \n",
    "# This should be done because the weights and the neurons should be able to map to each other\n",
    "\n",
    "model2.load_weights('models/medical_trial_model_weights.h5')"
   ]
  },
  {
   "cell_type": "code",
   "execution_count": 89,
   "metadata": {
    "colab": {
     "base_uri": "https://localhost:8080/"
    },
    "id": "6rtElOPEcUhV",
    "outputId": "60cff73b-d76c-4a9b-fe92-1f3a5f1f345b"
   },
   "outputs": [
    {
     "data": {
      "text/plain": [
       "[array([[-0.19831261, -0.3535055 ,  0.06443538, -0.07937759,  0.46293327,\n",
       "         -0.0623337 , -0.25150448, -0.00314897, -0.12273343,  0.42212453,\n",
       "          0.4475469 ,  0.3661439 ,  0.7441649 , -0.2045488 ,  0.55753696,\n",
       "         -0.15590507]], dtype=float32),\n",
       " array([ 0.        ,  0.        ,  0.26459566,  0.        , -0.1339832 ,\n",
       "         0.        ,  0.        ,  0.        ,  0.16704386, -0.07630388,\n",
       "        -0.13442123, -0.11302488, -0.11903106,  0.        , -0.12587428,\n",
       "         0.        ], dtype=float32),\n",
       " array([[-1.54108256e-01, -2.90638089e-01, -1.60395220e-01,\n",
       "          8.95375013e-03,  1.80596799e-01, -1.30255342e-01,\n",
       "          3.47052723e-01, -1.28869295e-01, -7.76060820e-02,\n",
       "          1.14806592e-01, -7.79382885e-02,  2.59027779e-02,\n",
       "          2.83868223e-01, -1.32560939e-01,  6.30408525e-03,\n",
       "          1.42041862e-01,  1.87512904e-01,  1.98795468e-01,\n",
       "          2.43600696e-01,  3.34640890e-01,  1.55089468e-01,\n",
       "         -1.17166132e-01, -1.75384164e-01,  1.39096975e-01,\n",
       "         -2.78263867e-01, -1.27280608e-01, -1.32744908e-02,\n",
       "          2.53761679e-01, -2.59555966e-01,  3.06044549e-01,\n",
       "          3.20563287e-01, -2.44496047e-01],\n",
       "        [-2.76729375e-01,  2.46706635e-01, -3.30395877e-01,\n",
       "         -1.86463296e-01, -1.52623847e-01,  2.56913096e-01,\n",
       "         -1.95659488e-01,  1.16950005e-01,  2.97881097e-01,\n",
       "          1.72823340e-01, -8.53958428e-02,  1.13237709e-01,\n",
       "          2.71471649e-01,  2.74804503e-01,  2.36649662e-01,\n",
       "          2.24812299e-01,  1.48866385e-01, -1.44731939e-01,\n",
       "         -1.15117714e-01, -1.92954510e-01, -3.15320134e-01,\n",
       "          7.09027052e-03,  3.35482568e-01, -1.03741601e-01,\n",
       "         -1.04487598e-01,  2.99379021e-01,  2.09788233e-01,\n",
       "         -5.22781014e-02, -2.43309617e-01, -1.81889609e-01,\n",
       "         -2.47346699e-01, -1.52755260e-01],\n",
       "        [ 1.66900009e-01,  2.94375867e-01,  3.58229399e-01,\n",
       "          5.10587953e-02,  2.16794819e-01,  2.80817777e-01,\n",
       "         -2.24485788e-02, -1.90368950e-01,  4.10863608e-01,\n",
       "         -2.52725989e-01,  2.24888697e-01,  9.34116840e-02,\n",
       "          6.09470382e-02, -2.59538561e-01, -2.15930939e-01,\n",
       "         -2.97869384e-01,  1.95816174e-01, -3.42671573e-01,\n",
       "          1.11184090e-01,  3.84002507e-01, -3.51330191e-01,\n",
       "         -2.51118004e-01,  1.76328197e-01, -1.92019999e-01,\n",
       "          2.64061481e-01,  2.92231351e-01,  5.17652705e-02,\n",
       "         -2.66810358e-01,  2.03136563e-01,  2.92962521e-01,\n",
       "          4.90548432e-01,  1.77624688e-01],\n",
       "        [-2.02122718e-01,  2.44400054e-01,  2.06181407e-02,\n",
       "         -2.10149288e-02, -2.05318198e-01,  9.18673873e-02,\n",
       "          3.04364532e-01,  2.81040967e-02, -2.70392835e-01,\n",
       "         -1.44958436e-01,  2.95457244e-03, -3.41032475e-01,\n",
       "         -2.91577786e-01,  8.63636136e-02, -3.44468623e-01,\n",
       "         -2.93339014e-01,  3.37522298e-01,  1.59927875e-01,\n",
       "         -4.75960076e-02,  3.42124850e-01,  1.63018674e-01,\n",
       "          3.35890800e-01,  1.63735420e-01, -3.28727126e-01,\n",
       "          1.43918931e-01,  1.87041968e-01, -2.13310421e-01,\n",
       "          2.11426646e-01,  7.63550699e-02, -3.13102782e-01,\n",
       "         -1.63995326e-01,  1.26278102e-01],\n",
       "        [-4.11283493e-01,  4.82394956e-02, -1.91199511e-01,\n",
       "          4.38862413e-01, -8.10444504e-02, -5.57908900e-02,\n",
       "          1.68950349e-01,  2.87412018e-01, -5.25416017e-01,\n",
       "          2.02253744e-01,  4.05095458e-01,  3.61008853e-01,\n",
       "         -3.17167938e-01,  3.27363223e-01, -7.50935376e-02,\n",
       "         -2.39908963e-01,  5.25573730e-01,  1.81244701e-01,\n",
       "          4.39248085e-02,  2.15216186e-02,  2.50402987e-01,\n",
       "         -3.29967409e-01, -3.85468543e-01, -7.04040378e-02,\n",
       "          5.76795995e-01, -2.24756926e-01, -2.64956951e-02,\n",
       "          1.91012427e-01,  1.14455767e-01,  4.12555993e-01,\n",
       "         -2.92447776e-01,  1.99085966e-01],\n",
       "        [-2.56963611e-01, -1.89574331e-01, -5.89507222e-02,\n",
       "          2.56535381e-01,  2.54424244e-01, -2.62907743e-02,\n",
       "          1.18702978e-01, -3.02271247e-02, -1.53711915e-01,\n",
       "         -1.64227217e-01,  1.79890066e-01, -9.97795463e-02,\n",
       "         -5.44061959e-02, -8.16994607e-02, -1.53263509e-02,\n",
       "          4.29506600e-02,  2.62257248e-01, -1.33424610e-01,\n",
       "         -2.04057842e-01, -7.87340999e-02, -3.25466633e-01,\n",
       "          1.94804579e-01, -2.13703483e-01,  2.74669737e-01,\n",
       "         -1.97313592e-01,  5.00673354e-02, -1.53560609e-01,\n",
       "         -3.41239184e-01,  2.64517993e-01, -1.29119053e-01,\n",
       "         -8.28387737e-02,  1.07553095e-01],\n",
       "        [-2.62459397e-01,  3.34838599e-01,  4.48863804e-02,\n",
       "         -2.88533449e-01, -2.01637521e-01,  1.49139076e-01,\n",
       "         -3.38664085e-01,  9.54004824e-02,  3.13312322e-01,\n",
       "          1.03271574e-01,  5.65047562e-02, -5.94751835e-02,\n",
       "         -8.25754404e-02,  2.90654689e-01,  2.93259352e-01,\n",
       "          1.86952382e-01,  1.55313164e-01,  3.23768228e-01,\n",
       "         -3.95727754e-02,  7.73867667e-02, -5.07673025e-02,\n",
       "         -1.79641545e-02, -1.73694655e-01, -2.18505099e-01,\n",
       "         -8.76265764e-02,  1.82812780e-01,  1.26452595e-01,\n",
       "          5.34115136e-02,  3.31840813e-02, -2.68758655e-01,\n",
       "         -1.35972053e-01, -1.77497312e-01],\n",
       "        [-1.04034856e-01,  4.35850024e-03, -1.27360523e-01,\n",
       "         -1.68252155e-01,  2.13673800e-01, -2.09601417e-01,\n",
       "         -1.21297285e-01,  1.35988742e-01, -3.41029435e-01,\n",
       "          2.92838424e-01,  4.13407385e-02, -2.83884883e-01,\n",
       "          1.45760655e-01,  2.57937878e-01,  2.09200531e-01,\n",
       "          2.32636929e-04,  1.51615053e-01, -3.90098691e-02,\n",
       "         -2.77903676e-02,  2.70816773e-01,  2.58052319e-01,\n",
       "          1.23550951e-01,  1.14530951e-01,  2.22969621e-01,\n",
       "          2.34572858e-01, -8.16197395e-02,  1.92377836e-01,\n",
       "         -1.00449502e-01, -1.24269143e-01, -4.84371781e-02,\n",
       "         -2.99827099e-01,  1.66248649e-01],\n",
       "        [ 1.64431214e-01,  6.25898182e-01,  9.43469703e-02,\n",
       "         -2.98721731e-01,  4.49178740e-02,  5.65159619e-02,\n",
       "          1.16641037e-01, -2.92505294e-01,  4.57023352e-01,\n",
       "         -3.14048260e-01, -3.77984010e-02, -4.48119074e-01,\n",
       "          1.35442942e-01, -7.74597451e-02,  1.04581684e-01,\n",
       "          5.86169064e-02,  9.10232514e-02, -7.30363429e-02,\n",
       "          1.10213667e-01,  2.86322236e-01,  1.48343697e-01,\n",
       "         -1.68378934e-01,  6.20639622e-01,  2.53613383e-01,\n",
       "         -5.13350844e-01,  4.17296678e-01, -2.83688247e-01,\n",
       "         -3.60605657e-01, -4.67301607e-01, -2.66572058e-01,\n",
       "          5.75000525e-01, -1.99782446e-01],\n",
       "        [-1.13820225e-01,  4.95017059e-02,  7.07921311e-02,\n",
       "          2.58879662e-01,  1.65601492e-01,  3.30634326e-01,\n",
       "         -1.43474802e-01, -1.69882312e-01, -4.32705879e-01,\n",
       "          2.98556566e-01,  1.79077655e-01,  2.65875459e-01,\n",
       "          1.96563259e-01,  1.31448224e-01,  1.62989885e-01,\n",
       "         -3.38416845e-01,  1.76204950e-01, -2.15843201e-01,\n",
       "          4.41981345e-01, -1.92880124e-01, -3.44926089e-01,\n",
       "          7.84376413e-02, -1.60914361e-01, -2.57688224e-01,\n",
       "         -9.93653163e-02,  6.97820038e-02, -9.34362710e-02,\n",
       "          4.97912318e-01,  3.28951210e-01,  2.14604363e-01,\n",
       "          6.79364800e-02,  4.49028879e-01],\n",
       "        [-2.58409142e-01, -4.81403947e-01, -9.11161751e-02,\n",
       "          4.35033619e-01, -7.62114450e-02,  4.97596234e-01,\n",
       "         -2.63615906e-01,  7.52934534e-03,  3.80414091e-02,\n",
       "          1.52093992e-01, -7.72647336e-02, -6.15979321e-02,\n",
       "          2.52142936e-01, -1.56554759e-01, -1.92015648e-01,\n",
       "          2.01897591e-01,  5.63577283e-03,  3.84537578e-02,\n",
       "         -5.35584502e-02, -4.55436409e-01,  2.88847476e-01,\n",
       "         -3.86891067e-02, -2.86072075e-01,  2.54225314e-01,\n",
       "          1.21727735e-01, -5.13037324e-01, -1.86087430e-01,\n",
       "          1.60867587e-01,  5.72202623e-01, -1.16720505e-01,\n",
       "         -5.29346704e-01,  3.28957558e-01],\n",
       "        [ 2.42498014e-02, -2.69237049e-02, -3.70595723e-01,\n",
       "          3.21558326e-01, -2.50670254e-01,  3.63127053e-01,\n",
       "         -1.81561038e-01, -8.90264884e-02, -2.81770319e-01,\n",
       "          5.81126690e-01,  2.99523085e-01, -1.67786866e-01,\n",
       "         -7.63044059e-02, -3.58730644e-01, -3.00167322e-01,\n",
       "         -2.19100639e-01,  4.87070143e-01, -1.54900715e-01,\n",
       "          5.39771676e-01,  4.52317446e-02,  3.72393988e-02,\n",
       "          3.03739309e-01, -3.60256970e-01,  2.95182854e-01,\n",
       "          6.72441581e-03, -3.92845035e-01, -1.21357292e-01,\n",
       "         -9.45309699e-02,  2.17025369e-01,  3.60207409e-01,\n",
       "         -2.89001405e-01,  2.31581569e-01],\n",
       "        [-5.55956662e-02,  1.58154279e-01, -2.29152769e-01,\n",
       "          2.17329741e-01, -2.76543379e-01, -3.92938145e-02,\n",
       "         -2.25695521e-01,  1.38705388e-01, -2.41100967e-01,\n",
       "          3.18429768e-01,  4.88790944e-02,  2.80352235e-01,\n",
       "         -3.68585885e-01,  1.06665812e-01, -1.42709136e-01,\n",
       "          2.87898868e-01,  3.70976806e-01,  7.13655353e-03,\n",
       "          3.70119095e-01, -2.00615115e-02, -1.46723747e-01,\n",
       "         -4.78407145e-02,  8.17432441e-03,  8.20420384e-02,\n",
       "          5.30965030e-01, -1.22554880e-02, -1.02442801e-01,\n",
       "          2.67900378e-01,  4.12384361e-01,  1.07825615e-01,\n",
       "         -2.84677207e-01,  2.35623777e-01],\n",
       "        [ 1.06054842e-02,  1.93216056e-01,  2.48988718e-01,\n",
       "         -1.84805498e-01,  2.94522077e-01,  1.97704285e-01,\n",
       "         -5.94599247e-02, -7.06587732e-02,  4.77134287e-02,\n",
       "          1.92034036e-01, -2.78149486e-01, -2.92828679e-03,\n",
       "          3.43760461e-01,  2.93884069e-01, -2.32683808e-01,\n",
       "         -2.52330065e-01, -1.40063494e-01, -6.37859106e-04,\n",
       "         -1.46109968e-01,  2.49626428e-01,  9.93186235e-02,\n",
       "         -2.50345439e-01,  3.46978456e-01, -3.29447240e-01,\n",
       "          1.33712888e-01, -2.25859895e-01, -1.43996641e-01,\n",
       "          8.27536583e-02,  3.15734774e-01,  1.81197971e-01,\n",
       "         -3.17210257e-01, -1.18779853e-01],\n",
       "        [ 8.07614103e-02, -4.85073656e-01, -3.20857406e-01,\n",
       "         -5.62364906e-02,  1.52289912e-01,  3.78536105e-01,\n",
       "         -3.40513736e-02, -2.21898526e-01,  8.12372267e-02,\n",
       "          2.21868023e-01,  5.61766207e-01,  4.20268387e-01,\n",
       "         -2.67734110e-01, -1.77965596e-01, -4.12328541e-02,\n",
       "         -7.68078268e-02, -1.13339990e-01, -3.20272297e-01,\n",
       "          9.92289931e-02,  4.33100276e-02,  2.69327134e-01,\n",
       "         -2.63555616e-01, -2.43109211e-01, -1.77586779e-01,\n",
       "          7.67519996e-02, -4.80595052e-01, -1.70101419e-01,\n",
       "          4.46657002e-01, -1.52578503e-01,  4.47778255e-01,\n",
       "         -8.49239007e-02,  3.76878977e-01],\n",
       "        [-2.05392212e-01, -6.19261861e-02,  7.16079175e-02,\n",
       "         -2.64656156e-01,  2.28564650e-01, -2.00052559e-02,\n",
       "         -2.38739133e-01, -3.11140418e-01,  2.67455608e-01,\n",
       "          1.90073162e-01,  2.72171050e-01,  2.05550998e-01,\n",
       "          2.52853662e-01, -5.73315918e-02, -7.24321306e-02,\n",
       "         -1.78229079e-01,  1.02272540e-01,  9.79239047e-02,\n",
       "          5.65302968e-02, -4.13807929e-02,  5.55137098e-02,\n",
       "          5.62224686e-02, -2.87427515e-01, -1.34877503e-01,\n",
       "         -3.15420449e-01, -2.68810570e-01,  3.49453777e-01,\n",
       "         -1.38619885e-01, -8.43831897e-03, -5.42146564e-02,\n",
       "         -1.66454166e-01,  2.18599290e-01]], dtype=float32),\n",
       " array([ 0.16251026,  0.1554033 ,  0.19515991, -0.06108671,  0.149937  ,\n",
       "        -0.12245335, -0.01378882, -0.00681457,  0.21462496, -0.02739071,\n",
       "        -0.11393116, -0.06656171, -0.02806876, -0.00378253,  0.        ,\n",
       "         0.        , -0.12466653,  0.        , -0.11464632,  0.15524557,\n",
       "        -0.00920343, -0.00051115,  0.22794458, -0.00336567, -0.09726967,\n",
       "         0.26447538, -0.00315819, -0.02973669, -0.0871651 , -0.10614755,\n",
       "         0.22733778, -0.1189694 ], dtype=float32),\n",
       " array([[ 0.09150119, -0.49516055],\n",
       "        [ 0.49598867, -0.32243806],\n",
       "        [ 0.49556133, -0.42657155],\n",
       "        [-0.43110967,  0.5070577 ],\n",
       "        [ 0.34259313, -0.3187026 ],\n",
       "        [-0.5448158 ,  0.60979193],\n",
       "        [-0.21919931,  0.29364997],\n",
       "        [ 0.02262707, -0.02468256],\n",
       "        [ 0.34109497, -0.79559577],\n",
       "        [-0.5204166 ,  0.5533156 ],\n",
       "        [-0.63700414, -0.02159677],\n",
       "        [ 0.21438214,  0.4567766 ],\n",
       "        [-0.38898516, -0.35873485],\n",
       "        [ 0.23749301, -0.1485847 ],\n",
       "        [ 0.06887326, -0.0496881 ],\n",
       "        [ 0.00888842, -0.08141068],\n",
       "        [-0.0815298 ,  0.49059293],\n",
       "        [ 0.20339444, -0.09756202],\n",
       "        [-0.23762532,  0.5463467 ],\n",
       "        [-0.05556413, -0.44790047],\n",
       "        [ 0.3246696 , -0.03678012],\n",
       "        [-0.40946326, -0.2109348 ],\n",
       "        [ 0.7265308 , -0.44538054],\n",
       "        [ 0.33093813, -0.14792886],\n",
       "        [-0.1467076 ,  0.4819107 ],\n",
       "        [ 0.1760163 , -0.7764651 ],\n",
       "        [-0.02399211,  0.34303874],\n",
       "        [-0.6033806 ,  0.6011089 ],\n",
       "        [-0.66111827,  0.2408323 ],\n",
       "        [-0.46272373,  0.55763537],\n",
       "        [ 0.78060985, -0.46106246],\n",
       "        [-0.33115247,  0.09433256]], dtype=float32),\n",
       " array([ 0.1459776 , -0.14597759], dtype=float32)]"
      ]
     },
     "execution_count": 89,
     "metadata": {},
     "output_type": "execute_result"
    }
   ],
   "source": [
    "# get the weights\n",
    "model2.get_weights()"
   ]
  },
  {
   "cell_type": "code",
   "execution_count": null,
   "metadata": {
    "id": "ycD0A2WrcYRJ"
   },
   "outputs": [],
   "source": []
  }
 ],
 "metadata": {
  "colab": {
   "name": "tensorflow-keras.ipynb",
   "provenance": []
  },
  "kernelspec": {
   "display_name": "Python 3",
   "language": "python",
   "name": "python3"
  },
  "language_info": {
   "codemirror_mode": {
    "name": "ipython",
    "version": 3
   },
   "file_extension": ".py",
   "mimetype": "text/x-python",
   "name": "python",
   "nbconvert_exporter": "python",
   "pygments_lexer": "ipython3",
   "version": "3.8.8"
  }
 },
 "nbformat": 4,
 "nbformat_minor": 1
}
